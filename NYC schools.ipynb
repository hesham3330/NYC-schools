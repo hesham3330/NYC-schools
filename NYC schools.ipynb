{
 "cells": [
  {
   "cell_type": "code",
   "execution_count": 1,
   "metadata": {},
   "outputs": [
    {
     "name": "stdout",
     "output_type": "stream",
     "text": [
      "                                         school_name    borough building_code  \\\n",
      "0  New Explorations into Science, Technology and ...  Manhattan          M022   \n",
      "1                               Essex Street Academy  Manhattan          M445   \n",
      "2                       Lower Manhattan Arts Academy  Manhattan          M445   \n",
      "3    High School for Dual Language and Asian Studies  Manhattan          M445   \n",
      "4      Henry Street School for International Studies  Manhattan          M056   \n",
      "\n",
      "   average_math  average_reading  average_writing  percent_tested  \n",
      "0           657              601              601             NaN  \n",
      "1           395              411              387            78.9  \n",
      "2           418              428              415            65.1  \n",
      "3           613              453              463            95.9  \n",
      "4           410              406              381            59.7  \n"
     ]
    }
   ],
   "source": [
    "import pandas as pd\n",
    "# Read in the data\n",
    "schools = pd.read_csv(\"E://projects//NYC-schools//schools.csv\")\n",
    "# Preview the data\n",
    "print(schools.head())"
   ]
  },
  {
   "cell_type": "code",
   "execution_count": 2,
   "metadata": {},
   "outputs": [
    {
     "name": "stdout",
     "output_type": "stream",
     "text": [
      "                                           school_name  average_math\n",
      "88                              Stuyvesant High School           754\n",
      "170                       Bronx High School of Science           714\n",
      "93                 Staten Island Technical High School           711\n",
      "365  Queens High School for the Sciences at York Co...           701\n",
      "68   High School for Mathematics, Science, and Engi...           683\n",
      "280                     Brooklyn Technical High School           682\n",
      "333                        Townsend Harris High School           680\n",
      "174  High School of American Studies at Lehman College           669\n",
      "0    New Explorations into Science, Technology and ...           657\n",
      "45                       Eleanor Roosevelt High School           641\n"
     ]
    }
   ],
   "source": [
    "# Which NYC schools have the best math results? \n",
    "# The best math results are at least 80% of the\n",
    "\n",
    "# To calculate the number of math grades that give a percentage of 80% \n",
    "precnt_math = (80*800)/100\n",
    "# filter the data above 80%\n",
    "best_schools = schools[schools[\"average_math\"]>=precnt_math]\n",
    "#Subsetting school_name and average_math columns and sorting it by average_math in descending orde\n",
    "best_math_schools= best_schools[[\"school_name\",\"average_math\"]].sort_values(\"average_math\",ascending=False)\n",
    "print(best_math_schools)"
   ]
  },
  {
   "cell_type": "code",
   "execution_count": 3,
   "metadata": {},
   "outputs": [
    {
     "name": "stdout",
     "output_type": "stream",
     "text": [
      "                                           school_name  total_SAT\n",
      "88                              Stuyvesant High School       2144\n",
      "170                       Bronx High School of Science       2041\n",
      "93                 Staten Island Technical High School       2041\n",
      "174  High School of American Studies at Lehman College       2013\n",
      "333                        Townsend Harris High School       1981\n",
      "365  Queens High School for the Sciences at York Co...       1947\n",
      "5                       Bard High School Early College       1914\n",
      "280                     Brooklyn Technical High School       1896\n",
      "45                       Eleanor Roosevelt High School       1889\n",
      "68   High School for Mathematics, Science, and Engi...       1889\n"
     ]
    }
   ],
   "source": [
    "# What are the top 10 performing schools based on the combined SAT scores?\n",
    "\n",
    "# add new column total_SAT\n",
    "schools [\"total_SAT\"] = schools[\"average_math\"]+schools[\"average_reading\"]+schools[\"average_writing\"]\n",
    "# Subsetting school_name and average_math columns and sorting it by total_SAT in descending orde\n",
    "subset = schools[[\"school_name\",\"total_SAT\"]].sort_values(\"total_SAT\",ascending=False)\n",
    "# Subsetting top ten school \n",
    "top_10_schools = subset.iloc[:10]\n",
    "print(top_10_schools)"
   ]
  },
  {
   "cell_type": "code",
   "execution_count": 4,
   "metadata": {},
   "outputs": [
    {
     "name": "stdout",
     "output_type": "stream",
     "text": [
      "     borough  std_SAT  average_SAT  num_schools\n",
      "0  Manhattan   230.29      1340.13           89\n"
     ]
    }
   ],
   "source": [
    "# Which single borough has the largest standard deviation in the combined SAT score?\n",
    "\n",
    "borough = schools.groupby(\"borough\")[\"total_SAT\"].agg([\"std\",\"mean\",\"count\"]).round(2)\n",
    "borough = borough.rename(columns={\"std\":\"std_SAT\",\"mean\":\"average_SAT\",\"count\":\"num_schools\"})\n",
    "largest_std_dev = borough[borough[\"std_SAT\"] == borough[\"std_SAT\"].max()]\n",
    "largest_std_dev.reset_index(inplace=True)\n",
    "print(largest_std_dev.head())\n"
   ]
  },
  {
   "cell_type": "code",
   "execution_count": null,
   "metadata": {},
   "outputs": [],
   "source": []
  }
 ],
 "metadata": {
  "kernelspec": {
   "display_name": "Python 3",
   "language": "python",
   "name": "python3"
  },
  "language_info": {
   "codemirror_mode": {
    "name": "ipython",
    "version": 3
   },
   "file_extension": ".py",
   "mimetype": "text/x-python",
   "name": "python",
   "nbconvert_exporter": "python",
   "pygments_lexer": "ipython3",
   "version": "3.12.2"
  }
 },
 "nbformat": 4,
 "nbformat_minor": 2
}
